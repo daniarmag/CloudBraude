{
  "nbformat": 4,
  "nbformat_minor": 0,
  "metadata": {
    "colab": {
      "provenance": [],
      "toc_visible": true,
      "authorship_tag": "ABX9TyMN22FYNNl9qPhcJ+QHQpqw",
      "include_colab_link": true
    },
    "kernelspec": {
      "name": "python3",
      "display_name": "Python 3"
    },
    "language_info": {
      "name": "python"
    },
    "widgets": {
      "application/vnd.jupyter.widget-state+json": {
        "28905401eb434801b49bbf8999345a5f": {
          "model_module": "@jupyter-widgets/controls",
          "model_name": "DropdownModel",
          "model_module_version": "1.5.0",
          "state": {
            "_dom_classes": [],
            "_model_module": "@jupyter-widgets/controls",
            "_model_module_version": "1.5.0",
            "_model_name": "DropdownModel",
            "_options_labels": [
              "Daniel Armaganian",
              "Tzahi Bakal"
            ],
            "_view_count": null,
            "_view_module": "@jupyter-widgets/controls",
            "_view_module_version": "1.5.0",
            "_view_name": "DropdownView",
            "description": "Student:",
            "description_tooltip": null,
            "disabled": false,
            "index": null,
            "layout": "IPY_MODEL_eda408d83e1d4d46a25b090847e4dc15",
            "style": "IPY_MODEL_67820a205f6d4335a1002130fcbd1fc2"
          }
        },
        "eda408d83e1d4d46a25b090847e4dc15": {
          "model_module": "@jupyter-widgets/base",
          "model_name": "LayoutModel",
          "model_module_version": "1.2.0",
          "state": {
            "_model_module": "@jupyter-widgets/base",
            "_model_module_version": "1.2.0",
            "_model_name": "LayoutModel",
            "_view_count": null,
            "_view_module": "@jupyter-widgets/base",
            "_view_module_version": "1.2.0",
            "_view_name": "LayoutView",
            "align_content": null,
            "align_items": null,
            "align_self": null,
            "border": null,
            "bottom": null,
            "display": null,
            "flex": null,
            "flex_flow": null,
            "grid_area": null,
            "grid_auto_columns": null,
            "grid_auto_flow": null,
            "grid_auto_rows": null,
            "grid_column": null,
            "grid_gap": null,
            "grid_row": null,
            "grid_template_areas": null,
            "grid_template_columns": null,
            "grid_template_rows": null,
            "height": null,
            "justify_content": null,
            "justify_items": null,
            "left": null,
            "margin": null,
            "max_height": null,
            "max_width": null,
            "min_height": null,
            "min_width": null,
            "object_fit": null,
            "object_position": null,
            "order": null,
            "overflow": null,
            "overflow_x": null,
            "overflow_y": null,
            "padding": null,
            "right": null,
            "top": null,
            "visibility": null,
            "width": null
          }
        },
        "67820a205f6d4335a1002130fcbd1fc2": {
          "model_module": "@jupyter-widgets/controls",
          "model_name": "DescriptionStyleModel",
          "model_module_version": "1.5.0",
          "state": {
            "_model_module": "@jupyter-widgets/controls",
            "_model_module_version": "1.5.0",
            "_model_name": "DescriptionStyleModel",
            "_view_count": null,
            "_view_module": "@jupyter-widgets/base",
            "_view_module_version": "1.2.0",
            "_view_name": "StyleView",
            "description_width": ""
          }
        }
      }
    }
  },
  "cells": [
    {
      "cell_type": "markdown",
      "metadata": {
        "id": "view-in-github",
        "colab_type": "text"
      },
      "source": [
        "<a href=\"https://colab.research.google.com/github/daniarmag/CloudBraude/blob/main/CloudEx1.ipynb\" target=\"_parent\"><img src=\"https://colab.research.google.com/assets/colab-badge.svg\" alt=\"Open In Colab\"/></a>"
      ]
    },
    {
      "cell_type": "code",
      "source": [
        "from google.colab import drive\n",
        "drive.mount('/content/drive')\n",
        "from ipywidgets import widgets, HBox, Layout\n",
        "from IPython.display import display, clear_output, Markdown\n",
        "\n",
        "import time"
      ],
      "metadata": {
        "colab": {
          "base_uri": "https://localhost:8080/"
        },
        "id": "shRvMgM-NE2l",
        "outputId": "d9845b5e-9f99-46b7-ba3f-ef46a5b1a71a"
      },
      "execution_count": 4,
      "outputs": [
        {
          "output_type": "stream",
          "name": "stdout",
          "text": [
            "Drive already mounted at /content/drive; to attempt to forcibly remount, call drive.mount(\"/content/drive\", force_remount=True).\n"
          ]
        }
      ]
    },
    {
      "cell_type": "code",
      "source": [
        "cd /content/drive/My Drive/CloudBraude"
      ],
      "metadata": {
        "colab": {
          "base_uri": "https://localhost:8080/"
        },
        "id": "FazU1qgzNvsI",
        "outputId": "909a03b1-05d1-43b4-fbeb-be666f0ea113"
      },
      "execution_count": 5,
      "outputs": [
        {
          "output_type": "stream",
          "name": "stdout",
          "text": [
            "/content/drive/My Drive/CloudBraude\n"
          ]
        }
      ]
    },
    {
      "cell_type": "code",
      "source": [
        "with open('students.txt', 'r') as file:\n",
        "    text = file.read()\n",
        "file.close()"
      ],
      "metadata": {
        "id": "3C6j6zPhN1DT"
      },
      "execution_count": 10,
      "outputs": []
    },
    {
      "cell_type": "code",
      "source": [
        "class Student:\n",
        "    def __init__(self, name, email, courses, link):\n",
        "        self.name = name\n",
        "        self.email = email\n",
        "        self.courses = courses\n",
        "        self.link = link\n",
        "    def __str__(self):\n",
        "        return f\"Name: {self.name}, Email: {self.email}, Courses: {self.courses}, Link: {self.link}\"\n",
        "\n",
        "\n",
        "students = []\n",
        "names = []\n",
        "studentLine = 0\n",
        "\n",
        "for student_line in text.splitlines():\n",
        "    student_info = student_line.split(\",\")\n",
        "    student_new = Student(name=student_info[0], email=student_info[1], courses=student_info[2], link=student_info[3])\n",
        "    students.append(student_new)\n",
        "for student in students:\n",
        "  names.append(student.name)\n"
      ],
      "metadata": {
        "id": "2vVygkHoOGA7"
      },
      "execution_count": 14,
      "outputs": []
    },
    {
      "cell_type": "code",
      "source": [
        "# @title Students { form-width: \"100%\" }"
      ],
      "metadata": {
        "id": "H5wTX6PFRdDV"
      },
      "execution_count": null,
      "outputs": []
    },
    {
      "cell_type": "code",
      "source": [
        "studentNameSelection = widgets.Dropdown(\n",
        "    options = [student.name for student in students],\n",
        "    value = None,\n",
        "    description = \"Student:\"\n",
        ")\n",
        "display(studentNameSelection)\n",
        "#Create text areas for student information\n",
        "output_box_email = widgets.Textarea(description=\"email:\", disabled=True, layout=Layout(width='400px', height='100px'))\n",
        "output_box_courses = widgets.Textarea(description=\"courses:\", disabled=True, layout=Layout(width='400px', height='100px'))\n",
        "output_box_link = widgets.Textarea(description=\"link:\", disabled=True, layout=Layout(width='400px', height='100px'))\n",
        "#Display the text areas using HBox\n",
        "output_boxes = HBox([output_box_email, output_box_courses, output_box_link])\n",
        "\n",
        "#for TV show\n",
        "def addTvShowToStudentLine(tvShow):\n",
        "    with open('students.txt', 'r+') as file:\n",
        "        lines = file.readlines()\n",
        "\n",
        "        if 0 <= studentLine < len(lines):\n",
        "            lines[studentLine] = lines[studentLine] + \",\" + tvShow + \"\\n\"\n",
        "            #Move the file cursor to the beginning to overwrite the file\n",
        "            file.seek(0)\n",
        "            #Write the modified content back to the file (write the lines back to the file (with the changed content))\n",
        "            file.writelines(lines)\n",
        "\n",
        "            print(\"TV Show saved!\")\n",
        "        else:\n",
        "            print(f\"Invalid line number: {studentLine}\")\n",
        "\n",
        "    file.close()\n",
        "\n",
        "def onClickSaveTvShow(_):\n",
        "  student_TvShow_entered = input_box_TVshow.value\n",
        "  addTvShowToStudentLine(student_TvShow_entered)\n",
        "\n",
        "input_box_TVshow = widgets.Textarea(description=\"TV Show:\", disabled=False, layout=Layout(width='400px', height='100px'))\n",
        "button_saveTVshow = widgets.Button(description=\"Save TV Show\")\n",
        "button_saveTVshow.on_click(onClickSaveTvShow)\n",
        "\n",
        "#set the information of the student in the output_boxes\n",
        "def studentSelected(student_index):\n",
        "  global studentLine\n",
        "  studentLine = student_index\n",
        "  clear_output()\n",
        "  input_box_TVshow.value = \"\"\n",
        "  display(studentNameSelection, output_boxes, input_box_TVshow, button_saveTVshow)\n",
        "\n",
        "  output_box_email.value = students[student_index].email\n",
        "  s_courses = students[student_index].courses.replace(' ', '\\n')\n",
        "  output_box_courses.value = s_courses\n",
        "  output_box_link.value = students[student_index].link\n",
        "\n",
        "#Function to handle changes in the dropdown value\n",
        "def onSelectStudent(change):\n",
        "  selected_index = names.index(change.new)\n",
        "  studentSelected(selected_index)\n",
        "\n",
        "\n",
        "\n",
        "#Attach the observer to the dropdown widget\n",
        "studentNameSelection.observe(onSelectStudent, names='value')"
      ],
      "metadata": {
        "colab": {
          "base_uri": "https://localhost:8080/",
          "height": 49,
          "referenced_widgets": [
            "28905401eb434801b49bbf8999345a5f",
            "eda408d83e1d4d46a25b090847e4dc15",
            "67820a205f6d4335a1002130fcbd1fc2"
          ]
        },
        "id": "FvIjd4ieRyQH",
        "outputId": "33e66568-78cf-49ac-ae1d-a9d0290052d3"
      },
      "execution_count": 29,
      "outputs": [
        {
          "output_type": "display_data",
          "data": {
            "text/plain": [
              "Dropdown(description='Student:', options=('Daniel Armaganian', 'Tzahi Bakal'), value=None)"
            ],
            "application/vnd.jupyter.widget-view+json": {
              "version_major": 2,
              "version_minor": 0,
              "model_id": "28905401eb434801b49bbf8999345a5f"
            }
          },
          "metadata": {}
        }
      ]
    }
  ]
}